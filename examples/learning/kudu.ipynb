{
 "cells": [
  {
   "cell_type": "code",
   "execution_count": null,
   "id": "a5829cb6-0528-4736-b302-21f76d59ff7d",
   "metadata": {
    "scrolled": true
   },
   "outputs": [],
   "source": [
    "# Create cluster folder for the local Kudu cluster\n",
    "!mkdir /tmp/cluster\n",
    "# Force clear it between runs to have a clear start every time\n",
    "!rm -rf /tmp/cluster/*\n",
    "# Set the log level accordingly\n",
    "!$KUDU_HOME/src/kudu/scripts/start_kudu.sh \\\n",
    "--builddir $KUDU_HOME/build/debug \\\n",
    "--clusterdir /tmp/cluster \\\n",
    "--num-masters 3 \\\n",
    "--master-flags \"--v 2\" \\\n",
    "--tserver-flags \"--v 2\"\n",
    "# Wait for the servers to come up.\n",
    "!sleep 3"
   ]
  },
  {
   "cell_type": "code",
   "execution_count": null,
   "id": "3364e0dc-4be0-4426-a06b-205b35410927",
   "metadata": {},
   "outputs": [],
   "source": [
    "# Create traces folder for recordings\n",
    "!mkdir /tmp/traces\n",
    "# Masters start recording\n",
    "!curl http://localhost:8765/tracing/json/begin_recording?eyJ0cmFjaW5nUmVjb3JkTW9kZSI6InJlY29yZC11bnRpbC1mdWxsIiwiY2F0ZWdvcnlGaWx0ZXIiOiIiLCJ1c2VTYW1wbGluZyI6ZmFsc2V9\n",
    "!curl http://localhost:8767/tracing/json/begin_recording?eyJ0cmFjaW5nUmVjb3JkTW9kZSI6InJlY29yZC11bnRpbC1mdWxsIiwiY2F0ZWdvcnlGaWx0ZXIiOiIiLCJ1c2VTYW1wbGluZyI6ZmFsc2V9\n",
    "!curl http://localhost:8769/tracing/json/begin_recording?eyJ0cmFjaW5nUmVjb3JkTW9kZSI6InJlY29yZC11bnRpbC1mdWxsIiwiY2F0ZWdvcnlGaWx0ZXIiOiIiLCJ1c2VTYW1wbGluZyI6ZmFsc2V9\n",
    "# Tservers start recording\n",
    "!curl http://localhost:9871/tracing/json/begin_recording?eyJ0cmFjaW5nUmVjb3JkTW9kZSI6InJlY29yZC11bnRpbC1mdWxsIiwiY2F0ZWdvcnlGaWx0ZXIiOiIiLCJ1c2VTYW1wbGluZyI6dHJ1ZX0=\n",
    "!curl http://localhost:9873/tracing/json/begin_recording?eyJ0cmFjaW5nUmVjb3JkTW9kZSI6InJlY29yZC11bnRpbC1mdWxsIiwiY2F0ZWdvcnlGaWx0ZXIiOiIiLCJ1c2VTYW1wbGluZyI6dHJ1ZX0=\n",
    "!curl http://localhost:9875/tracing/json/begin_recording?eyJ0cmFjaW5nUmVjb3JkTW9kZSI6InJlY29yZC11bnRpbC1mdWxsIiwiY2F0ZWdvcnlGaWx0ZXIiOiIiLCJ1c2VTYW1wbGluZyI6dHJ1ZX0=                                                                \n",
    "!sleep 1\n",
    "# \n",
    "!python3.8 $KUDU_HOME/examples/python/basic-python-example/basic_example.py -m 127.0.0.1 127.0.0.1 127.0.0.1 -p 8764 8766 8768\n",
    "!sleep 1\n",
    "# End all recordings\n",
    "!curl http://localhost:8765/tracing/json/end_recording_compressed --output /tmp/traces/master1.json.gz\n",
    "!curl http://localhost:8767/tracing/json/end_recording_compressed --output /tmp/traces/master2.json.gz\n",
    "!curl http://localhost:8769/tracing/json/end_recording_compressed --output /tmp/traces/master3.json.gz\n",
    "!curl http://localhost:9871/tracing/json/end_recording_compressed --output /tmp/traces/tserver1.json.gz\n",
    "!curl http://localhost:9873/tracing/json/end_recording_compressed --output /tmp/traces/tserver2.json.gz\n",
    "!curl http://localhost:9875/tracing/json/end_recording_compressed --output /tmp/traces/tserver3.json.gz\n",
    "\n",
    "import json\n",
    "import gzip\n",
    "\n",
    "def extract_trace_events(file_path):\n",
    "    with gzip.open(file_path, 'rt', encoding='ISO-8859-1') as file:\n",
    "        data = json.load(file)\n",
    "        return data.get('traceEvents', [])\n",
    "\n",
    "def combine_trace_events(file_paths):\n",
    "    combined_events = []\n",
    "    for file_path in file_paths:\n",
    "        events = extract_trace_events(file_path)\n",
    "        combined_events.extend(events)\n",
    "    return {'traceEvents': combined_events}\n",
    "\n",
    "def save_combined_trace_events(combined_data, output_file):\n",
    "    with open(output_file, 'w') as file:\n",
    "        json.dump(combined_data, file)\n",
    "\n",
    "# Masters\n",
    "master_file_paths = ['/tmp/traces/master1.json.gz', '/tmp/traces/master2.json.gz', '/tmp/traces/master3.json.gz']\n",
    "# Tservers\n",
    "tserver_file_paths = ['/tmp/traces/tserver1.json.gz', '/tmp/traces/tserver2.json.gz', '/tmp/traces/tserver3.json.gz']\n",
    "# Masters + tservers\n",
    "all_file_paths = master_file_paths + tserver_file_paths\n",
    "output_file_path = '/tmp/traces/all_traces.json'\n",
    "combined_data = combine_trace_events(all_file_paths)\n",
    "save_combined_trace_events(combined_data, output_file_path)\n",
    "print(\"done with trace processing\")"
   ]
  },
  {
   "cell_type": "code",
   "execution_count": null,
   "id": "b16df7f8-fa4e-4525-82c0-b3eb8e3051d1",
   "metadata": {},
   "outputs": [],
   "source": [
    "%%bash\n",
    "if [[ \"$OSTYPE\" == \"darwin\"* ]]; then\n",
    "    # Mac OSX\n",
    "    # Applescripts to open the master and tserver logs in iterm sessions.\n",
    "    osascript iterm_master_logs.applescript\n",
    "    osascript iterm_tserver_logs.applescript\n",
    "fi"
   ]
  },
  {
   "cell_type": "code",
   "execution_count": null,
   "id": "17a21f8a-ae7f-4333-a779-17be2dda1681",
   "metadata": {},
   "outputs": [],
   "source": [
    "!$KUDU_HOME/src/kudu/scripts/stop_kudu.sh\n",
    "!sleep 2\n",
    "!echo \"Kudu stopped\""
   ]
  }
 ],
 "metadata": {
  "kernelspec": {
   "display_name": "Python 3 (ipykernel)",
   "language": "python",
   "name": "python3"
  },
  "language_info": {
   "codemirror_mode": {
    "name": "ipython",
    "version": 3
   },
   "file_extension": ".py",
   "mimetype": "text/x-python",
   "name": "python",
   "nbconvert_exporter": "python",
   "pygments_lexer": "ipython3",
   "version": "3.8.18"
  }
 },
 "nbformat": 4,
 "nbformat_minor": 5
}
