{
 "cells": [
  {
   "cell_type": "code",
   "execution_count": 1,
   "id": "a5829cb6-0528-4736-b302-21f76d59ff7d",
   "metadata": {
    "scrolled": true
   },
   "outputs": [
    {
     "name": "stdout",
     "output_type": "stream",
     "text": [
      "mkdir: /tmp/cluster: File exists\n",
      "/Users/mgreber/git/kudu/build/debug/bin/kudu-master\n",
      "/Users/mgreber/git/kudu/build/debug/bin/kudu-tserver\n",
      "Starting master-0:\n",
      "  RPC  port 8764\n",
      "  HTTP port 8765\n",
      "  PID 2998\n",
      "Starting master-1:\n",
      "  RPC  port 8766\n",
      "  HTTP port 8767\n",
      "  PID 3000\n",
      "Starting master-2:\n",
      "  RPC  port 8768\n",
      "  HTTP port 8769\n",
      "  PID 3002\n",
      "Starting tserver-0:\n",
      "  RPC  port 9870\n",
      "  HTTP port 9871\n",
      "  PID 3009\n",
      "Starting tserver-1:\n",
      "  RPC  port 9872\n",
      "  HTTP port 9873\n",
      "  PID 3015\n",
      "Starting tserver-2:\n",
      "  RPC  port 9874\n",
      "  HTTP port 9875\n",
      "  PID 3021\n",
      "ARGS\n",
      "/Users/mgreber/git/kudu/build/debug/bin/kudu-master --master_addresses=127.0.0.1:8764,127.0.0.1:8766,127.0.0.1:8768 --fs_data_dirs=/tmp/cluster/master-0/data --fs_wal_dir=/tmp/cluster/master-0/wal --log_dir=/tmp/cluster/master-0/log --rpc_bind_addresses=127.0.0.1:8764 --time_source=system_unsync --unlock_unsafe_flags --webserver_interface=127.0.0.1 --webserver_port=8765 --v 2\n",
      "/Users/mgreber/git/kudu/build/debug/bin/kudu-master --master_addresses=127.0.0.1:8764,127.0.0.1:8766,127.0.0.1:8768 --fs_data_dirs=/tmp/cluster/master-1/data --fs_wal_dir=/tmp/cluster/master-1/wal --log_dir=/tmp/cluster/master-1/log --rpc_bind_addresses=127.0.0.1:8766 --time_source=system_unsync --unlock_unsafe_flags --webserver_interface=127.0.0.1 --webserver_port=8767 --v 2\n",
      "/Users/mgreber/git/kudu/build/debug/bin/kudu-master --master_addresses=127.0.0.1:8764,127.0.0.1:8766,127.0.0.1:8768 --fs_data_dirs=/tmp/cluster/master-2/data --fs_wal_dir=/tmp/cluster/master-2/wal --log_dir=/tmp/cluster/master-2/log --rpc_bind_addresses=127.0.0.1:8768 --time_source=system_unsync --unlock_unsafe_flags --webserver_interface=127.0.0.1 --webserver_port=8769 --v 2\n",
      "/Users/mgreber/git/kudu/build/debug/bin/kudu-tserver --fs_data_dirs=/tmp/cluster/tserver-0/data --fs_wal_dir=/tmp/cluster/tserver-0/wal --log_dir=/tmp/cluster/tserver-0/log --rpc_bind_addresses=127.0.0.1:9870 --time_source=system_unsync --unlock_unsafe_flags --webserver_interface=127.0.0.1 --webserver_port=9871 --tserver_master_addrs=127.0.0.1:8764,127.0.0.1:8766,127.0.0.1:8768 --memory_limit_hard_bytes=9162596898 --v 2\n",
      "/Users/mgreber/git/kudu/build/debug/bin/kudu-tserver --fs_data_dirs=/tmp/cluster/tserver-1/data --fs_wal_dir=/tmp/cluster/tserver-1/wal --log_dir=/tmp/cluster/tserver-1/log --rpc_bind_addresses=127.0.0.1:9872 --time_source=system_unsync --unlock_unsafe_flags --webserver_interface=127.0.0.1 --webserver_port=9873 --tserver_master_addrs=127.0.0.1:8764,127.0.0.1:8766,127.0.0.1:8768 --memory_limit_hard_bytes=9162596898 --v 2\n",
      "/Users/mgreber/git/kudu/build/debug/bin/kudu-tserver --fs_data_dirs=/tmp/cluster/tserver-2/data --fs_wal_dir=/tmp/cluster/tserver-2/wal --log_dir=/tmp/cluster/tserver-2/log --rpc_bind_addresses=127.0.0.1:9874 --time_source=system_unsync --unlock_unsafe_flags --webserver_interface=127.0.0.1 --webserver_port=9875 --tserver_master_addrs=127.0.0.1:8764,127.0.0.1:8766,127.0.0.1:8768 --memory_limit_hard_bytes=9162596898 --v 2\n"
     ]
    }
   ],
   "source": [
    "# Create cluster folder for the local Kudu cluster\n",
    "!mkdir /tmp/cluster\n",
    "# Force clear it between runs to have a clear start every time\n",
    "!rm -rf /tmp/cluster/*\n",
    "# Set the log level accordingly\n",
    "!$KUDU_HOME/src/kudu/scripts/start_kudu.sh \\\n",
    "--builddir $KUDU_HOME/build/debug \\\n",
    "--clusterdir /tmp/cluster \\\n",
    "--num-masters 3 \\\n",
    "--master-flags \"--v 2\" \\\n",
    "--tserver-flags \"--v 2\"\n",
    "# Wait for the servers to come up.\n",
    "!sleep 3"
   ]
  },
  {
   "cell_type": "code",
   "execution_count": 2,
   "id": "3364e0dc-4be0-4426-a06b-205b35410927",
   "metadata": {},
   "outputs": [
    {
     "name": "stdout",
     "output_type": "stream",
     "text": [
      "mkdir: /tmp/traces: File exists\n",
      "  % Total    % Received % Xferd  Average Speed   Time    Time     Time  Current\n",
      "                                 Dload  Upload   Total   Spent    Left  Speed\n",
      "100 18856  100 18856    0     0   925k      0 --:--:-- --:--:-- --:--:-- 1315k\n",
      "  % Total    % Received % Xferd  Average Speed   Time    Time     Time  Current\n",
      "                                 Dload  Upload   Total   Spent    Left  Speed\n",
      "100 18369  100 18369    0     0   965k      0 --:--:-- --:--:-- --:--:-- 1379k\n",
      "  % Total    % Received % Xferd  Average Speed   Time    Time     Time  Current\n",
      "                                 Dload  Upload   Total   Spent    Left  Speed\n",
      "100 18244  100 18244    0     0  1104k      0 --:--:-- --:--:-- --:--:-- 1484k\n",
      "  % Total    % Received % Xferd  Average Speed   Time    Time     Time  Current\n",
      "                                 Dload  Upload   Total   Spent    Left  Speed\n",
      "100  9596  100  9596    0     0   637k      0 --:--:-- --:--:-- --:--:-- 1171k\n",
      "  % Total    % Received % Xferd  Average Speed   Time    Time     Time  Current\n",
      "                                 Dload  Upload   Total   Spent    Left  Speed\n",
      "100 12688  100 12688    0     0   792k      0 --:--:-- --:--:-- --:--:-- 1376k\n",
      "  % Total    % Received % Xferd  Average Speed   Time    Time     Time  Current\n",
      "                                 Dload  Upload   Total   Spent    Left  Speed\n",
      "100 11803  100 11803    0     0  1094k      0 --:--:-- --:--:-- --:--:-- 1921k\n",
      "done with trace processing\n"
     ]
    }
   ],
   "source": [
    "# Create traces folder for recordings\n",
    "!mkdir /tmp/traces\n",
    "# Masters start recording\n",
    "!curl http://localhost:8765/tracing/json/begin_recording?eyJ0cmFjaW5nUmVjb3JkTW9kZSI6InJlY29yZC11bnRpbC1mdWxsIiwiY2F0ZWdvcnlGaWx0ZXIiOiIiLCJ1c2VTYW1wbGluZyI6ZmFsc2V9\n",
    "!curl http://localhost:8767/tracing/json/begin_recording?eyJ0cmFjaW5nUmVjb3JkTW9kZSI6InJlY29yZC11bnRpbC1mdWxsIiwiY2F0ZWdvcnlGaWx0ZXIiOiIiLCJ1c2VTYW1wbGluZyI6ZmFsc2V9\n",
    "!curl http://localhost:8769/tracing/json/begin_recording?eyJ0cmFjaW5nUmVjb3JkTW9kZSI6InJlY29yZC11bnRpbC1mdWxsIiwiY2F0ZWdvcnlGaWx0ZXIiOiIiLCJ1c2VTYW1wbGluZyI6ZmFsc2V9\n",
    "# Tservers start recording\n",
    "!curl http://localhost:9871/tracing/json/begin_recording?eyJ0cmFjaW5nUmVjb3JkTW9kZSI6InJlY29yZC11bnRpbC1mdWxsIiwiY2F0ZWdvcnlGaWx0ZXIiOiIiLCJ1c2VTYW1wbGluZyI6dHJ1ZX0=\n",
    "!curl http://localhost:9873/tracing/json/begin_recording?eyJ0cmFjaW5nUmVjb3JkTW9kZSI6InJlY29yZC11bnRpbC1mdWxsIiwiY2F0ZWdvcnlGaWx0ZXIiOiIiLCJ1c2VTYW1wbGluZyI6dHJ1ZX0=\n",
    "!curl http://localhost:9875/tracing/json/begin_recording?eyJ0cmFjaW5nUmVjb3JkTW9kZSI6InJlY29yZC11bnRpbC1mdWxsIiwiY2F0ZWdvcnlGaWx0ZXIiOiIiLCJ1c2VTYW1wbGluZyI6dHJ1ZX0=                                                                \n",
    "!sleep 1\n",
    "# \n",
    "!python3.8 $KUDU_HOME/examples/python/basic-python-example/basic_example.py -m 127.0.0.1 127.0.0.1 127.0.0.1 -p 8764 8766 8768\n",
    "!sleep 1\n",
    "# End all recordings\n",
    "!curl http://localhost:8765/tracing/json/end_recording_compressed --output /tmp/traces/master1.json.gz\n",
    "!curl http://localhost:8767/tracing/json/end_recording_compressed --output /tmp/traces/master2.json.gz\n",
    "!curl http://localhost:8769/tracing/json/end_recording_compressed --output /tmp/traces/master3.json.gz\n",
    "!curl http://localhost:9871/tracing/json/end_recording_compressed --output /tmp/traces/tserver1.json.gz\n",
    "!curl http://localhost:9873/tracing/json/end_recording_compressed --output /tmp/traces/tserver2.json.gz\n",
    "!curl http://localhost:9875/tracing/json/end_recording_compressed --output /tmp/traces/tserver3.json.gz\n",
    "\n",
    "import json\n",
    "import gzip\n",
    "\n",
    "def extract_trace_events(file_path):\n",
    "    with gzip.open(file_path, 'rt', encoding='ISO-8859-1') as file:\n",
    "        data = json.load(file)\n",
    "        return data.get('traceEvents', [])\n",
    "\n",
    "def combine_trace_events(file_paths):\n",
    "    combined_events = []\n",
    "    for file_path in file_paths:\n",
    "        events = extract_trace_events(file_path)\n",
    "        combined_events.extend(events)\n",
    "    return {'traceEvents': combined_events}\n",
    "\n",
    "def save_combined_trace_events(combined_data, output_file):\n",
    "    with open(output_file, 'w') as file:\n",
    "        json.dump(combined_data, file)\n",
    "\n",
    "# Masters\n",
    "master_file_paths = ['/tmp/traces/master1.json.gz', '/tmp/traces/master2.json.gz', '/tmp/traces/master3.json.gz']\n",
    "# Tservers\n",
    "tserver_file_paths = ['/tmp/traces/tserver1.json.gz', '/tmp/traces/tserver2.json.gz', '/tmp/traces/tserver3.json.gz']\n",
    "# Masters + tservers\n",
    "all_file_paths = master_file_paths + tserver_file_paths\n",
    "output_file_path = '/tmp/traces/all_traces.json'\n",
    "combined_data = combine_trace_events(all_file_paths)\n",
    "save_combined_trace_events(combined_data, output_file_path)\n",
    "print(\"done with trace processing\")"
   ]
  },
  {
   "cell_type": "code",
   "execution_count": 3,
   "id": "b16df7f8-fa4e-4525-82c0-b3eb8e3051d1",
   "metadata": {},
   "outputs": [],
   "source": [
    "%%bash\n",
    "if [[ \"$OSTYPE\" == \"darwin\"* ]]; then\n",
    "    # Mac OSX\n",
    "    # Applescripts to open the master and tserver logs in iterm sessions.\n",
    "    osascript iterm_master_logs.applescript\n",
    "    osascript iterm_tserver_logs.applescript\n",
    "fi"
   ]
  },
  {
   "cell_type": "code",
   "execution_count": 4,
   "id": "17a21f8a-ae7f-4333-a779-17be2dda1681",
   "metadata": {},
   "outputs": [
    {
     "name": "stdout",
     "output_type": "stream",
     "text": [
      "Kudu stopped\n"
     ]
    }
   ],
   "source": [
    "!$KUDU_HOME/src/kudu/scripts/stop_kudu.sh\n",
    "!sleep 2\n",
    "!echo \"Kudu stopped\""
   ]
  }
 ],
 "metadata": {
  "kernelspec": {
   "display_name": "Python 3 (ipykernel)",
   "language": "python",
   "name": "python3"
  },
  "language_info": {
   "codemirror_mode": {
    "name": "ipython",
    "version": 3
   },
   "file_extension": ".py",
   "mimetype": "text/x-python",
   "name": "python",
   "nbconvert_exporter": "python",
   "pygments_lexer": "ipython3",
   "version": "3.8.18"
  }
 },
 "nbformat": 4,
 "nbformat_minor": 5
}
